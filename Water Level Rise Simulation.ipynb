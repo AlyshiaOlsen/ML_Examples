{
 "cells": [
  {
   "cell_type": "markdown",
   "id": "f73aaa5d",
   "metadata": {},
   "source": [
    "Alyshia's Sea Level Rise Notebook"
   ]
  },
  {
   "cell_type": "code",
   "execution_count": 4,
   "id": "2d4f7253",
   "metadata": {},
   "outputs": [],
   "source": [
    "import numpy as np \n",
    "import matplotlib.pyplot as plt\n",
    "import os\n",
    "import time\n",
    "os.environ[\"SIGOPT_API_TOKEN\"] = 'ILQVBLWQEDZABNBTETGRXIVZNZZMNFWPQQIBHZQFBODVGAOI'\n",
    "import sigopt"
   ]
  },
  {
   "cell_type": "code",
   "execution_count": 7,
   "id": "e1b90da1",
   "metadata": {
    "scrolled": true
   },
   "outputs": [],
   "source": [
    "Data = np.array([\n",
    "    [1906, -7.02], \n",
    "    [1907, -6.29], \n",
    "    [1908, -5.45], \n",
    "    [1909, -4.16], \n",
    "    [1910, -3.79], \n",
    "    [1911, -2.37], \n",
    "    [1912, -1.92], \n",
    "    [1913, -0.70], \n",
    "    [1914, 1.08],  \n",
    "    [1915, 2.46],\n",
    "    [1916, 3.88],\n",
    "    [1917, 4.71]\n",
    "] )"
   ]
  },
  {
   "cell_type": "code",
   "execution_count": 53,
   "id": "3bf78367",
   "metadata": {},
   "outputs": [
    {
     "name": "stdout",
     "output_type": "stream",
     "text": [
      "-7.02\n",
      "1.040399999999963\n",
      "-6.29\n",
      "2.704499999999869\n",
      "-5.45\n",
      "4.807\n",
      "-4.16\n",
      "6.152600000000191\n",
      "-3.79\n",
      "9.35670000000006\n",
      "-2.37\n",
      "11.233599999999761\n",
      "-1.92\n",
      "14.92000000000004\n",
      "-0.7\n",
      "17.810000000000194\n",
      "1.08\n",
      "18.65640000000033\n",
      "2.46\n",
      "18.948000000000288\n",
      "3.88\n",
      "18.96240000000026\n",
      "4.71\n",
      "19.04650000000024\n"
     ]
    }
   ],
   "source": [
    "def loss(Data, m, b):\n",
    "    mse= 0;\n",
    "    for x in np.array(Data):\n",
    "        print (x[1])\n",
    "        mse += (((x[1]-m*x[0])+b)**2)\n",
    "        print (mse)\n",
    "\n",
    "loss(Data, 1, 1912)\n",
    "    \n",
    "    \n",
    "\n"
   ]
  },
  {
   "cell_type": "code",
   "execution_count": null,
   "id": "b40e452c",
   "metadata": {},
   "outputs": [],
   "source": []
  },
  {
   "cell_type": "code",
   "execution_count": 12,
   "id": "10e15163",
   "metadata": {},
   "outputs": [],
   "source": [
    "def day_at_the_beach(temperature, sandiness):\n",
    "    happiness = np.exp(-1/40*(temperature-78)**2) \n",
    "    happiness += .1*(sandiness=='none')\n",
    "    return happiness\n"
   ]
  },
  {
   "cell_type": "code",
   "execution_count": 13,
   "id": "e7b6bd41",
   "metadata": {},
   "outputs": [
    {
     "data": {
      "text/plain": [
       "0.4065696597405991"
      ]
     },
     "execution_count": 13,
     "metadata": {},
     "output_type": "execute_result"
    }
   ],
   "source": [
    "day_at_the_beach(72, 'coarse')\n",
    "\n"
   ]
  },
  {
   "cell_type": "code",
   "execution_count": 18,
   "id": "3f90dfb6",
   "metadata": {},
   "outputs": [],
   "source": [
    "for run in experiment.loop():\n",
    "    with run:\n",
    "        time.sleep(1)\n",
    "        happiness = day_at_the_beach(run.params.temperature, run.params.sandiness)\n",
    "        run.log_metric(\"happiness\", happiness)\n",
    "        \n",
    "        \n",
    "        "
   ]
  },
  {
   "cell_type": "code",
   "execution_count": null,
   "id": "fb1bb119",
   "metadata": {},
   "outputs": [],
   "source": []
  }
 ],
 "metadata": {
  "kernelspec": {
   "display_name": "Python 3 (ipykernel)",
   "language": "python",
   "name": "python3"
  },
  "language_info": {
   "codemirror_mode": {
    "name": "ipython",
    "version": 3
   },
   "file_extension": ".py",
   "mimetype": "text/x-python",
   "name": "python",
   "nbconvert_exporter": "python",
   "pygments_lexer": "ipython3",
   "version": "3.9.10"
  }
 },
 "nbformat": 4,
 "nbformat_minor": 5
}
